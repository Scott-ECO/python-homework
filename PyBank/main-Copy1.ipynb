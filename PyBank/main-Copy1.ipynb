{
 "cells": [
  {
   "cell_type": "code",
   "execution_count": 7,
   "id": "3ba07a97-49a5-4de9-8c43-e34d5d772781",
   "metadata": {},
   "outputs": [
    {
     "data": {
      "text/plain": [
       "' This script will anylize the financial records of a company by \\n# reading in the data and exporting the data to a text file. '"
      ]
     },
     "execution_count": 7,
     "metadata": {},
     "output_type": "execute_result"
    }
   ],
   "source": [
    "# Homework Assignment Number Two - PyBank\n",
    "\"\"\" This script will anylize the financial records of a company by \n",
    "# reading in the data and exporting the data to a text file. \"\"\""
   ]
  },
  {
   "cell_type": "code",
   "execution_count": 8,
   "id": "c09414d7-0431-4b3e-adcd-eafdca680fc6",
   "metadata": {},
   "outputs": [],
   "source": [
    "# From the pathlib library, import the main class Path\n",
    "# Import csv\n",
    "\n",
    "import csv\n",
    "from pathlib import Path"
   ]
  },
  {
   "cell_type": "code",
   "execution_count": 9,
   "id": "8c0b99bb-2cae-4851-85c4-61713e7ad821",
   "metadata": {},
   "outputs": [
    {
     "name": "stdout",
     "output_type": "stream",
     "text": [
      "Current Working Directory: C:\\Users\\scott\\OneDrive\\Scott\\FinTechBC\\Assignments\\atwo\\python-homework\\PyBank\n"
     ]
    }
   ],
   "source": [
    "# Check the current directory where the Python program is executing from\n",
    "\n",
    "print(f\"Current Working Directory: {Path.cwd()}\")"
   ]
  },
  {
   "cell_type": "code",
   "execution_count": 10,
   "id": "57d75113-8f71-4212-9513-b805c5b9d161",
   "metadata": {},
   "outputs": [],
   "source": [
    "# Set the path using Pathlib\n",
    "file = Path('budget_data.csv')"
   ]
  },
  {
   "cell_type": "code",
   "execution_count": 17,
   "id": "3e2ebe80-bc09-465d-9ce2-19025548abe4",
   "metadata": {},
   "outputs": [],
   "source": [
    "# Create all variables and lists\n",
    "num_months = 0\n",
    "profit_loss = 0\n",
    "previous_profit_loss = 0\n",
    "profit_loss_change = 0\n",
    "net_profit_loss_change = 0\n",
    "num_changes = 0\n",
    "net_profit_loss = 0\n",
    "avg_changes = 0.00\n",
    "max_increase = 0\n",
    "low_decrease = 0\n",
    "lin_num = 0\n",
    "\n",
    "change_list = []\n",
    "change_list_profitLoss_only = []\n",
    "change_list_months = []\n",
    "\n",
    "# Create functions\n",
    "# 1. calculate average changes\n",
    "# 2. calculate max increase in changes\n",
    "# 3. calculate low decrease in changes\n"
   ]
  },
  {
   "cell_type": "code",
   "execution_count": 18,
   "id": "aa4070a5-88a0-4fbf-b825-ff5e7e8d0777",
   "metadata": {},
   "outputs": [
    {
     "ename": "SyntaxError",
     "evalue": "invalid syntax (Temp/ipykernel_25540/3575143279.py, line 30)",
     "output_type": "error",
     "traceback": [
      "\u001b[1;36m  File \u001b[1;32m\"C:\\Users\\scott\\AppData\\Local\\Temp/ipykernel_25540/3575143279.py\"\u001b[1;36m, line \u001b[1;32m30\u001b[0m\n\u001b[1;33m    low_decrease =\u001b[0m\n\u001b[1;37m                   ^\u001b[0m\n\u001b[1;31mSyntaxError\u001b[0m\u001b[1;31m:\u001b[0m invalid syntax\n"
     ]
    }
   ],
   "source": [
    "with open(file, 'r') as csv_pybank_data:\n",
    "    pybank_csv = csv.reader(csv_pybank_data, delimiter=\",\")\n",
    "    csv_header = next(pybank_csv)\n",
    "        \n",
    "    for row in pybank_csv:\n",
    "        profit_loss = int(row[1])\n",
    "        num_months += 1\n",
    "        net_profit_loss += profit_loss\n",
    "        change_list.append([row[0] , int(profit_loss) - int(previous_profit_loss)])\n",
    "        change_list_profitLoss_only.append([profit_loss - previous_profit_loss])\n",
    "        change_list_months.append(row[0])\n",
    "        previous_profit_loss = profit_loss\n",
    "       \n",
    "    del change_list[0]\n",
    "    del change_list_profitLoss_only[0]\n",
    "    del change_list_months[0]\n",
    "    \n",
    "    for row in change_list:\n",
    "        profit_loss_change = int(row[1])\n",
    "        num_changes += 1\n",
    "        net_profit_loss_change += profit_loss_change\n",
    "\n",
    "    avg_changes = net_profit_loss_change/num_changes\n",
    "\n",
    "    #low_decrease = min(change_list_profitLoss_only)\n",
    "   # max_increase = max(change_list_profitLoss_only)\n",
    "\n",
    "    #low_decrease = min(change_list[1])\n",
    " \n",
    "    low_decrease = "
   ]
  },
  {
   "cell_type": "code",
   "execution_count": 19,
   "id": "a5b37994-fb16-4e63-9f64-77f52465d2a9",
   "metadata": {},
   "outputs": [
    {
     "name": "stdout",
     "output_type": "stream",
     "text": [
      "Total Number of Months = 0\n",
      "Total Net Profit/Loss = 0\n",
      "Average of the changes in Profit/Loss = 0.0\n"
     ]
    },
    {
     "ename": "IndexError",
     "evalue": "list index out of range",
     "output_type": "error",
     "traceback": [
      "\u001b[1;31m---------------------------------------------------------------------------\u001b[0m",
      "\u001b[1;31mIndexError\u001b[0m                                Traceback (most recent call last)",
      "\u001b[1;32m~\\AppData\\Local\\Temp/ipykernel_25540/656396221.py\u001b[0m in \u001b[0;36m<module>\u001b[1;34m\u001b[0m\n\u001b[0;32m      2\u001b[0m \u001b[0mprint\u001b[0m\u001b[1;33m(\u001b[0m\u001b[1;34mf\"Total Net Profit/Loss = {net_profit_loss}\"\u001b[0m\u001b[1;33m)\u001b[0m\u001b[1;33m\u001b[0m\u001b[1;33m\u001b[0m\u001b[0m\n\u001b[0;32m      3\u001b[0m \u001b[0mprint\u001b[0m\u001b[1;33m(\u001b[0m\u001b[1;34mf\"Average of the changes in Profit/Loss = {avg_changes}\"\u001b[0m\u001b[1;33m)\u001b[0m\u001b[1;33m\u001b[0m\u001b[1;33m\u001b[0m\u001b[0m\n\u001b[1;32m----> 4\u001b[1;33m \u001b[0mprint\u001b[0m\u001b[1;33m(\u001b[0m\u001b[1;34mf\"Greatest Increase in Profits = {max_increase}{change_list[0]}\"\u001b[0m\u001b[1;33m)\u001b[0m\u001b[1;33m\u001b[0m\u001b[1;33m\u001b[0m\u001b[0m\n\u001b[0m\u001b[0;32m      5\u001b[0m \u001b[0mprint\u001b[0m\u001b[1;33m(\u001b[0m\u001b[1;34mf\"Greatest Decrease in Profits = {low_decrease}\"\u001b[0m\u001b[1;33m)\u001b[0m\u001b[1;33m\u001b[0m\u001b[1;33m\u001b[0m\u001b[0m\n\u001b[0;32m      6\u001b[0m \u001b[1;31m#print(change_list)\u001b[0m\u001b[1;33m\u001b[0m\u001b[1;33m\u001b[0m\u001b[0m\n",
      "\u001b[1;31mIndexError\u001b[0m: list index out of range"
     ]
    }
   ],
   "source": [
    "print(f\"Total Number of Months = {num_months}\")\n",
    "print(f\"Total Net Profit/Loss = {net_profit_loss}\")\n",
    "print(f\"Average of the changes in Profit/Loss = {avg_changes}\")\n",
    "print(f\"Greatest Increase in Profits = {max_increase}{change_list[0]}\")\n",
    "print(f\"Greatest Decrease in Profits = {low_decrease}\")\n",
    "#print(change_list)\n",
    "print(low_decrease)\n",
    "#print(change_list_months)\n",
    "#print(change_list)"
   ]
  },
  {
   "cell_type": "code",
   "execution_count": null,
   "id": "034383b2-d6eb-41d0-9b20-21e63429188f",
   "metadata": {},
   "outputs": [],
   "source": []
  },
  {
   "cell_type": "code",
   "execution_count": null,
   "id": "2e699d42-d451-41f3-a7fb-8fb964fe135e",
   "metadata": {},
   "outputs": [],
   "source": []
  },
  {
   "cell_type": "code",
   "execution_count": null,
   "id": "548062d3-8aa0-4a67-aba2-6867526b56f4",
   "metadata": {},
   "outputs": [],
   "source": [
    "# Notes:  "
   ]
  },
  {
   "cell_type": "code",
   "execution_count": null,
   "id": "272c17ea-ce09-4538-a2e9-78f068c6047d",
   "metadata": {},
   "outputs": [],
   "source": []
  },
  {
   "cell_type": "code",
   "execution_count": null,
   "id": "28ca50c4-c2b7-407b-bb40-ef4cd49e1b24",
   "metadata": {},
   "outputs": [],
   "source": []
  },
  {
   "cell_type": "code",
   "execution_count": null,
   "id": "8f346123-c72b-4a23-8771-079db5812917",
   "metadata": {},
   "outputs": [],
   "source": []
  },
  {
   "cell_type": "code",
   "execution_count": null,
   "id": "ba661550-4069-4d23-821e-f81b5964e89e",
   "metadata": {},
   "outputs": [],
   "source": []
  },
  {
   "cell_type": "code",
   "execution_count": null,
   "id": "c1539cf1-df37-4201-97b2-d9528a1d733e",
   "metadata": {},
   "outputs": [],
   "source": []
  },
  {
   "cell_type": "code",
   "execution_count": null,
   "id": "0d468b53-efa4-4e83-ba45-7e8d6a90d64f",
   "metadata": {},
   "outputs": [],
   "source": []
  },
  {
   "cell_type": "code",
   "execution_count": null,
   "id": "f8f7bbf6-9816-47a8-a4ad-02748cce3210",
   "metadata": {},
   "outputs": [],
   "source": []
  },
  {
   "cell_type": "code",
   "execution_count": null,
   "id": "1879f82d-b779-470f-a9d8-b739bdac0752",
   "metadata": {},
   "outputs": [],
   "source": []
  },
  {
   "cell_type": "code",
   "execution_count": null,
   "id": "1b7fe169-21aa-4133-92aa-c2bd88146515",
   "metadata": {},
   "outputs": [],
   "source": []
  },
  {
   "cell_type": "code",
   "execution_count": null,
   "id": "ee90ef17-df06-460b-a167-fb34a22939f5",
   "metadata": {},
   "outputs": [],
   "source": []
  }
 ],
 "metadata": {
  "kernelspec": {
   "display_name": "Python 3 (ipykernel)",
   "language": "python",
   "name": "python3"
  },
  "language_info": {
   "codemirror_mode": {
    "name": "ipython",
    "version": 3
   },
   "file_extension": ".py",
   "mimetype": "text/x-python",
   "name": "python",
   "nbconvert_exporter": "python",
   "pygments_lexer": "ipython3",
   "version": "3.9.7"
  }
 },
 "nbformat": 4,
 "nbformat_minor": 5
}
