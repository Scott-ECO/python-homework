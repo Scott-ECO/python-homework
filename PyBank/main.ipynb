{
 "cells": [
  {
   "cell_type": "code",
   "execution_count": 45,
   "id": "3ba07a97-49a5-4de9-8c43-e34d5d772781",
   "metadata": {},
   "outputs": [],
   "source": [
    "# Homework Assignment Number Two - PyBank\n",
    "# This script will anylize the financial records of a company by \n",
    "# reading in the data and exporting the data to a text file. "
   ]
  },
  {
   "cell_type": "code",
   "execution_count": 46,
   "id": "c09414d7-0431-4b3e-adcd-eafdca680fc6",
   "metadata": {
    "tags": []
   },
   "outputs": [],
   "source": [
    "# Import csv\n",
    "import csv\n",
    "\n",
    "# From the pathlib library, import the main class Path\n",
    "from pathlib import Path"
   ]
  },
  {
   "cell_type": "code",
   "execution_count": 47,
   "id": "8c0b99bb-2cae-4851-85c4-61713e7ad821",
   "metadata": {},
   "outputs": [
    {
     "name": "stdout",
     "output_type": "stream",
     "text": [
      "Current Working Directory: C:\\Users\\scott\\OneDrive\\Scott\\FinTechBC\\Assignments\\atwo\\python-homework\\PyBank\n"
     ]
    }
   ],
   "source": [
    "# Check the current directory where the Python program is executing from\n",
    "print(f\"Current Working Directory: {Path.cwd()}\")"
   ]
  },
  {
   "cell_type": "code",
   "execution_count": 48,
   "id": "57d75113-8f71-4212-9513-b805c5b9d161",
   "metadata": {},
   "outputs": [],
   "source": [
    "# Set the path using Pathlib\n",
    "file = Path('budget_data.csv')"
   ]
  },
  {
   "cell_type": "code",
   "execution_count": 49,
   "id": "3e2ebe80-bc09-465d-9ce2-19025548abe4",
   "metadata": {},
   "outputs": [],
   "source": [
    "# Initialize variables and lists\n",
    "\n",
    "# Number of months in data set\n",
    "num_months = 0\n",
    "\n",
    "# Initial profit/loss variable\n",
    "profit_loss = 0\n",
    "\n",
    "# Variable used to calculate the change in profit/loss from one month to the next.\n",
    "previous_profit_loss = 0\n",
    "\n",
    "# Change in profit/loss from one month to the next \n",
    "profit_loss_change = 0\n",
    "\n",
    "# Sum of profit/loss changes\n",
    "net_profit_loss_change = 0\n",
    "\n",
    "# Number of profit/loss changes\n",
    "num_changes = 0\n",
    "\n",
    "# Sum of all profit/loss\n",
    "net_profit_loss = 0\n",
    "\n",
    "# Average of changes in profit/loss\n",
    "avg_changes = 0.00\n",
    "\n",
    "# Maximum increase in profit/loss \n",
    "max_increase = 0.00\n",
    "\n",
    "# Maximum decrease in profit/loss\n",
    "low_decrease = 0.00\n",
    "\n",
    "# Create the list of changes (month, change amount)\n",
    "change_list = []"
   ]
  },
  {
   "cell_type": "code",
   "execution_count": 50,
   "id": "aa4070a5-88a0-4fbf-b825-ff5e7e8d0777",
   "metadata": {},
   "outputs": [],
   "source": [
    "# open the cvs file, reasd in as csv_pybank_data\n",
    "with open(file, 'r') as csv_pybank_data:\n",
    "    pybank_csv = csv.reader(csv_pybank_data, delimiter=\",\")\n",
    "    # define the header in the csv file\n",
    "    csv_header = next(pybank_csv)\n",
    "        \n",
    "    # iterate through the data, calculate number of months, net profit/loss, change_list\n",
    "    for row in pybank_csv:\n",
    "        profit_loss = int(row[1])\n",
    "        num_months += 1\n",
    "        net_profit_loss += profit_loss\n",
    "        change_list.append([row[0] , int(profit_loss) - int(previous_profit_loss)])\n",
    "        previous_profit_loss = profit_loss\n",
    "    \n",
    "    # delete the first value in change list.  The first value is not usable as there was no change from first month to first month\n",
    "    del change_list[0]\n",
    "    \n",
    "    # iterate through change_list, calculate the net profit/loss change \n",
    "    for row in change_list:\n",
    "        profit_loss_change = int(row[1])\n",
    "        num_changes += 1\n",
    "        net_profit_loss_change += profit_loss_change\n",
    "\n",
    "# Format net profit/loss change\n",
    "net_profit_loss_format = \"{:,.2f}\".format(net_profit_loss)\n",
    "        \n",
    "# Calculate the average changes\n",
    "avg_changes = net_profit_loss_change/num_changes\n",
    "# Format average changes\n",
    "avg_changes_format = \"{:,.2f}\".format(avg_changes)\n",
    "\n",
    "# Maximum increase in profit/loss \n",
    "max_increase = max(change_list, key=lambda x: x[1])\n",
    "# Format maximum increase\n",
    "#max_increase_format = \"{:,.2f}\".format(max_increase)\n",
    "\n",
    "# Maximum decrease in profit/loss\n",
    "low_decrease = min(change_list, key=lambda x: x[1])   \n",
    "# Format maximum decrease\n",
    "#low_decrease_format = \"{:,.2f}\".format(low_decrease)"
   ]
  },
  {
   "cell_type": "code",
   "execution_count": 51,
   "id": "a5b37994-fb16-4e63-9f64-77f52465d2a9",
   "metadata": {},
   "outputs": [
    {
     "name": "stdout",
     "output_type": "stream",
     "text": [
      "Total Number of Months = 86\n",
      "Total Net Profit/Loss = $38,382,578.00\n",
      "Average of the changes in Profit/Loss = $-2,315.12\n",
      "Greatest Increase in Profits = Feb-2012 , $1926159\n",
      "Greatest Decrease in Profits = Sep-2013 , $-2196167\n"
     ]
    }
   ],
   "source": [
    "# print output\n",
    "print(f\"Total Number of Months = {num_months}\")\n",
    "print(f\"Total Net Profit/Loss = ${net_profit_loss_format}\")\n",
    "print(f\"Average of the changes in Profit/Loss = ${avg_changes_format}\")\n",
    "print(f\"Greatest Increase in Profits = {max_increase[0]} , ${max_increase[1]}\")\n",
    "print(f\"Greatest Decrease in Profits = {low_decrease[0]} , ${low_decrease[1]}\")\n"
   ]
  },
  {
   "cell_type": "code",
   "execution_count": 52,
   "id": "034383b2-d6eb-41d0-9b20-21e63429188f",
   "metadata": {},
   "outputs": [],
   "source": [
    "# Set output file name\n",
    "output_path = 'output.txt'\n",
    "\n",
    "# Open the output path as a file object and write results\n",
    "with open(output_path, 'w') as file:\n",
    "    file.write(f\"Total Number of Months = {num_months}\\n\")\n",
    "    file.write(f\"Total Net Profit/Loss = ${net_profit_loss_format}\\n\")\n",
    "    file.write(f\"Average of the changes in Profit/Loss = ${avg_changes_format}\\n\")\n",
    "    file.write(f\"Greatest Increase in Profits = {max_increase[0]} , ${max_increase[1]}\\n\")\n",
    "    file.write(f\"Greatest Decrease in Profits = {low_decrease[0]} , ${low_decrease[1]}\")"
   ]
  },
  {
   "cell_type": "code",
   "execution_count": null,
   "id": "2e699d42-d451-41f3-a7fb-8fb964fe135e",
   "metadata": {},
   "outputs": [],
   "source": []
  },
  {
   "cell_type": "code",
   "execution_count": null,
   "id": "548062d3-8aa0-4a67-aba2-6867526b56f4",
   "metadata": {},
   "outputs": [],
   "source": []
  },
  {
   "cell_type": "code",
   "execution_count": null,
   "id": "272c17ea-ce09-4538-a2e9-78f068c6047d",
   "metadata": {},
   "outputs": [],
   "source": []
  },
  {
   "cell_type": "code",
   "execution_count": null,
   "id": "28ca50c4-c2b7-407b-bb40-ef4cd49e1b24",
   "metadata": {},
   "outputs": [],
   "source": [
    "\n"
   ]
  },
  {
   "cell_type": "code",
   "execution_count": null,
   "id": "8f346123-c72b-4a23-8771-079db5812917",
   "metadata": {},
   "outputs": [],
   "source": []
  },
  {
   "cell_type": "code",
   "execution_count": null,
   "id": "ba661550-4069-4d23-821e-f81b5964e89e",
   "metadata": {},
   "outputs": [],
   "source": []
  },
  {
   "cell_type": "code",
   "execution_count": null,
   "id": "c1539cf1-df37-4201-97b2-d9528a1d733e",
   "metadata": {},
   "outputs": [],
   "source": []
  },
  {
   "cell_type": "code",
   "execution_count": null,
   "id": "0d468b53-efa4-4e83-ba45-7e8d6a90d64f",
   "metadata": {},
   "outputs": [],
   "source": []
  },
  {
   "cell_type": "code",
   "execution_count": null,
   "id": "f8f7bbf6-9816-47a8-a4ad-02748cce3210",
   "metadata": {},
   "outputs": [],
   "source": []
  },
  {
   "cell_type": "code",
   "execution_count": null,
   "id": "1879f82d-b779-470f-a9d8-b739bdac0752",
   "metadata": {},
   "outputs": [],
   "source": []
  },
  {
   "cell_type": "code",
   "execution_count": null,
   "id": "1b7fe169-21aa-4133-92aa-c2bd88146515",
   "metadata": {},
   "outputs": [],
   "source": []
  },
  {
   "cell_type": "code",
   "execution_count": null,
   "id": "ee90ef17-df06-460b-a167-fb34a22939f5",
   "metadata": {},
   "outputs": [],
   "source": []
  },
  {
   "cell_type": "code",
   "execution_count": null,
   "id": "b80ea548-04e7-4892-9f65-a5bf0ff04e71",
   "metadata": {},
   "outputs": [],
   "source": []
  },
  {
   "cell_type": "code",
   "execution_count": null,
   "id": "acc9c082-473a-47b6-bd0b-35cdc825404c",
   "metadata": {},
   "outputs": [],
   "source": []
  }
 ],
 "metadata": {
  "kernelspec": {
   "display_name": "Python 3 (ipykernel)",
   "language": "python",
   "name": "python3"
  },
  "language_info": {
   "codemirror_mode": {
    "name": "ipython",
    "version": 3
   },
   "file_extension": ".py",
   "mimetype": "text/x-python",
   "name": "python",
   "nbconvert_exporter": "python",
   "pygments_lexer": "ipython3",
   "version": "3.9.7"
  }
 },
 "nbformat": 4,
 "nbformat_minor": 5
}
